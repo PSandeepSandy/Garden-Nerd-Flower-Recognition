{
 "cells": [
  {
   "cell_type": "code",
   "execution_count": 0,
   "metadata": {
    "colab": {
     "base_uri": "https://localhost:8080/",
     "height": 122
    },
    "colab_type": "code",
    "id": "c9rEWvlEHm5L",
    "outputId": "8d3d051d-228d-442b-ba51-8a73e46ec7cd"
   },
   "outputs": [
    {
     "name": "stdout",
     "output_type": "stream",
     "text": [
      "Go to this URL in a browser: https://accounts.google.com/o/oauth2/auth?client_id=947318989803-6bn6qk8qdgf4n4g3pfee6491hc0brc4i.apps.googleusercontent.com&redirect_uri=urn%3Aietf%3Awg%3Aoauth%3A2.0%3Aoob&scope=email%20https%3A%2F%2Fwww.googleapis.com%2Fauth%2Fdocs.test%20https%3A%2F%2Fwww.googleapis.com%2Fauth%2Fdrive%20https%3A%2F%2Fwww.googleapis.com%2Fauth%2Fdrive.photos.readonly%20https%3A%2F%2Fwww.googleapis.com%2Fauth%2Fpeopleapi.readonly&response_type=code\n",
      "\n",
      "Enter your authorization code:\n",
      "··········\n",
      "Mounted at /content/drive\n"
     ]
    }
   ],
   "source": [
    "from google.colab import drive\n",
    "drive.mount('/content/drive')"
   ]
  },
  {
   "cell_type": "code",
   "execution_count": 0,
   "metadata": {
    "colab": {
     "base_uri": "https://localhost:8080/",
     "height": 34
    },
    "colab_type": "code",
    "id": "cDLXrqcNGlU7",
    "outputId": "dfa85f1e-2f5a-488f-ae9c-3f55af25f1ab"
   },
   "outputs": [
    {
     "name": "stdout",
     "output_type": "stream",
     "text": [
      "-rw-r--r-- 1 root root 66 Sep 22 05:40 kaggle.json\n"
     ]
    }
   ],
   "source": [
    "# Let's make sure the kaggle.json file is present.\n",
    "!ls -lha kaggle.json"
   ]
  },
  {
   "cell_type": "code",
   "execution_count": 0,
   "metadata": {
    "colab": {},
    "colab_type": "code",
    "id": "QITWh1N5GoqG"
   },
   "outputs": [],
   "source": [
    "# Next, install the Kaggle API client.\n",
    "!pip install -q kaggle"
   ]
  },
  {
   "cell_type": "code",
   "execution_count": 0,
   "metadata": {
    "colab": {},
    "colab_type": "code",
    "id": "KixiXyagGy7Y"
   },
   "outputs": [],
   "source": [
    "# The Kaggle API client expects this file to be in ~/.kaggle,\n",
    "# so move it there.\n",
    "!mkdir -p ~/.kaggle\n",
    "!cp kaggle.json ~/.kaggle/\n",
    "\n",
    "# This permissions change avoids a warning on Kaggle tool startup.\n",
    "!chmod 600 ~/.kaggle/kaggle.json"
   ]
  },
  {
   "cell_type": "code",
   "execution_count": 0,
   "metadata": {
    "colab": {
     "base_uri": "https://localhost:8080/",
     "height": 408
    },
    "colab_type": "code",
    "id": "rPZaJ7oOGuyh",
    "outputId": "ec01db6b-c71c-49d6-8530-145c9d1a5057"
   },
   "outputs": [
    {
     "name": "stdout",
     "output_type": "stream",
     "text": [
      "Warning: Looks like you're using an outdated API Version, please consider updating (server 1.5.6 / client 1.5.4)\n",
      "ref                                                       title                                              size  lastUpdated          downloadCount  \n",
      "--------------------------------------------------------  ------------------------------------------------  -----  -------------------  -------------  \n",
      "therohk/ireland-historical-news                           The Irish Times - Waxy-Wany News                   47MB  2019-08-24 15:36:54           1673  \n",
      "dgomonov/new-york-city-airbnb-open-data                   New York City Airbnb Open Data                      2MB  2019-08-12 16:24:45          15548  \n",
      "lakshyaag/india-trade-data                                India - Trade Data                                  1MB  2019-08-16 16:13:58           8190  \n",
      "bradklassen/pga-tour-20102018-data                        PGA Tour Golf Data                                 94MB  2019-08-30 00:09:59           5945  \n",
      "r3w0p4/bournemouth-venues                                 Venues in Bournemouth                               3KB  2019-07-08 14:26:48           1333  \n",
      "AnalyzeBoston/crimes-in-boston                            Crimes in Boston                                   10MB  2018-09-04 17:56:03          19693  \n",
      "dareenalharthi/jamalon-arabic-books-dataset               Jamalon Arabic Books Dataset                        1MB  2019-08-15 18:58:06            395  \n",
      "samhiatt/xenocanto-avian-vocalizations-canv-usa           Avian Vocalizations from CA & NV, USA               1GB  2019-08-10 00:16:10            291  \n",
      "codersree/mount-rainier-weather-and-climbing-data         Mount Rainier Weather and Climbing Data            25KB  2019-08-27 23:33:36           1343  \n",
      "citizen-ds-ghana/health-facilities-gh                     Ghana Health Facilities                            84KB  2018-09-03 01:19:24           2079  \n",
      "doit-intl/autotel-shared-car-locations                    Shared Cars Locations                              78MB  2019-01-10 13:06:00           2466  \n",
      "jolasa/waves-measuring-buoys-data-mooloolaba              Waves Measuring Buoys Data                        599KB  2019-07-07 16:59:44           2538  \n",
      "ma7555/schengen-visa-stats                                Schengen Visa Stats 2017/2018                       1MB  2019-07-25 10:55:37           1240  \n",
      "lishuyangkaggle/cocktails-hotaling-co                     Cocktails (Hotaling & Co.)                         75KB  2019-07-08 23:49:34           1186  \n",
      "Madgrades/uw-madison-courses                              UW Madison Courses and Grades 2006-2017            90MB  2018-05-15 18:58:25           1949  \n",
      "inIT-OWL/vega-shrinkwrapper-runtofailure-data             Vega shrink-wrapper component degradation         408KB  2018-11-12 13:03:43            400  \n",
      "martj42/international-football-results-from-1872-to-2017  International football results from 1872 to 2019  523KB  2019-07-22 17:03:13          20077  \n",
      "citylines/city-lines                                      Transit systems of world                            3MB  2019-03-25 16:53:05           3378  \n",
      "datafiniti/pizza-restaurants-and-the-pizza-they-sell      Pizza Restaurants and the Pizza They Sell         865KB  2019-05-30 00:21:21           9168  \n",
      "university-of-edinburgh/peace-agreements-dataset          Peace Agreements Dataset                            1MB  2018-03-05 16:39:50           1167  \n"
     ]
    }
   ],
   "source": [
    "# List available datasets.\n",
    "!kaggle datasets list"
   ]
  },
  {
   "cell_type": "code",
   "execution_count": 0,
   "metadata": {
    "colab": {
     "base_uri": "https://localhost:8080/",
     "height": 34
    },
    "colab_type": "code",
    "id": "0hyJ4Rb5HMwH",
    "outputId": "93261df4-1bd0-4955-d160-fc6fc47c49fb"
   },
   "outputs": [
    {
     "name": "stdout",
     "output_type": "stream",
     "text": [
      "flower-recognition-he.zip: Skipping, found more recently modified local copy (use --force to force download)\n"
     ]
    }
   ],
   "source": [
    "# Copy the stackoverflow data set locally.\n",
    "!kaggle datasets download -d rednivrug/flower-recognition-he"
   ]
  },
  {
   "cell_type": "code",
   "execution_count": 0,
   "metadata": {
    "colab": {
     "base_uri": "https://localhost:8080/",
     "height": 51
    },
    "colab_type": "code",
    "id": "6Mf83Q_Bfoq2",
    "outputId": "113e4f8d-de39-41f8-f3a5-1118705786a2"
   },
   "outputs": [
    {
     "name": "stdout",
     "output_type": "stream",
     "text": [
      "Archive:  flower-recognition-he.zip\n",
      "replace data/sample_submission.csv? [y]es, [n]o, [A]ll, [N]one, [r]ename: N\n"
     ]
    }
   ],
   "source": [
    "!unzip flower-recognition-he.zip"
   ]
  },
  {
   "cell_type": "code",
   "execution_count": 0,
   "metadata": {
    "colab": {},
    "colab_type": "code",
    "id": "z3di3J3wfonf"
   },
   "outputs": [],
   "source": [
    "import numpy as np\n",
    "import pandas as pd"
   ]
  },
  {
   "cell_type": "code",
   "execution_count": 0,
   "metadata": {
    "colab": {},
    "colab_type": "code",
    "id": "Hw71XbDbfokH"
   },
   "outputs": [],
   "source": [
    "from fastai.vision import *\n",
    "from fastai.metrics import error_rate\n",
    "import os\n",
    "import pathlib\n",
    "\n",
    "#from fastai.vision import *\n",
    "from fastai.vision.models import *\n",
    "from fastai.vision.learner import model_meta\n",
    "from fastai.callbacks import * \n",
    "from fastai.callbacks.hooks import *"
   ]
  },
  {
   "cell_type": "code",
   "execution_count": 0,
   "metadata": {
    "colab": {
     "base_uri": "https://localhost:8080/",
     "height": 119
    },
    "colab_type": "code",
    "id": "5EBQuVjEf-wa",
    "outputId": "5fbc96cb-98cd-470a-9520-7f933280f1a1"
   },
   "outputs": [
    {
     "data": {
      "text/plain": [
       "[PosixPath('data/train.csv'),\n",
       " PosixPath('data/test'),\n",
       " PosixPath('data/model'),\n",
       " PosixPath('data/train'),\n",
       " PosixPath('data/sample_submission.csv'),\n",
       " PosixPath('data/test.csv')]"
      ]
     },
     "execution_count": 9,
     "metadata": {
      "tags": []
     },
     "output_type": "execute_result"
    }
   ],
   "source": [
    "path = pathlib.Path('data');path.ls()"
   ]
  },
  {
   "cell_type": "code",
   "execution_count": 0,
   "metadata": {
    "colab": {},
    "colab_type": "code",
    "id": "PQ_svU4OgABH"
   },
   "outputs": [],
   "source": [
    "tfms = get_transforms(do_flip=True,flip_vert=True,max_rotate=90,p_affine=0.75,\n",
    "                      max_lighting=0.5, max_warp=0.2, p_lighting=0.75,\n",
    "                      xtra_tfms=[symmetric_warp(magnitude=(-0.3,0.3)),\n",
    "                                 tilt(direction=(0,3),magnitude=0.4),\n",
    "                                 pad(mode='reflection'),\n",
    "                                 squish(),\n",
    "                                 zoom(),\n",
    "                                 cutout(n_holes=(1,5))])"
   ]
  },
  {
   "cell_type": "code",
   "execution_count": 0,
   "metadata": {
    "colab": {},
    "colab_type": "code",
    "id": "5B03ob5df_9t"
   },
   "outputs": [],
   "source": [
    "np.random.seed(20)\n",
    "data = ImageDataBunch.from_csv(path, folder='train', csv_labels='train.csv',suffix='.jpg',\n",
    "                               valid_pct=0.15, test='test', ds_tfms=tfms,\n",
    "                               size=224,bs = 64).normalize(imagenet_stats)"
   ]
  },
  {
   "cell_type": "code",
   "execution_count": 0,
   "metadata": {
    "colab": {},
    "colab_type": "code",
    "id": "psLzXiKSf_6g"
   },
   "outputs": [],
   "source": [
    "fbetaW = FBeta(beta=1, average=\"weighted\")"
   ]
  },
  {
   "cell_type": "code",
   "execution_count": 0,
   "metadata": {
    "colab": {},
    "colab_type": "code",
    "id": "rIKNCIm4h9nY"
   },
   "outputs": [],
   "source": [
    "train = pd.read_csv('/content/data/train.csv')"
   ]
  },
  {
   "cell_type": "code",
   "execution_count": 0,
   "metadata": {
    "colab": {
     "base_uri": "https://localhost:8080/",
     "height": 204
    },
    "colab_type": "code",
    "id": "qbUDU2CyiGPs",
    "outputId": "31869a9a-172e-4298-d8b8-7b6eaef10310"
   },
   "outputs": [
    {
     "data": {
      "text/html": [
       "<div>\n",
       "<style scoped>\n",
       "    .dataframe tbody tr th:only-of-type {\n",
       "        vertical-align: middle;\n",
       "    }\n",
       "\n",
       "    .dataframe tbody tr th {\n",
       "        vertical-align: top;\n",
       "    }\n",
       "\n",
       "    .dataframe thead th {\n",
       "        text-align: right;\n",
       "    }\n",
       "</style>\n",
       "<table border=\"1\" class=\"dataframe\">\n",
       "  <thead>\n",
       "    <tr style=\"text-align: right;\">\n",
       "      <th></th>\n",
       "      <th>image_id</th>\n",
       "      <th>category</th>\n",
       "    </tr>\n",
       "  </thead>\n",
       "  <tbody>\n",
       "    <tr>\n",
       "      <th>0</th>\n",
       "      <td>0</td>\n",
       "      <td>77</td>\n",
       "    </tr>\n",
       "    <tr>\n",
       "      <th>1</th>\n",
       "      <td>1</td>\n",
       "      <td>81</td>\n",
       "    </tr>\n",
       "    <tr>\n",
       "      <th>2</th>\n",
       "      <td>2</td>\n",
       "      <td>52</td>\n",
       "    </tr>\n",
       "    <tr>\n",
       "      <th>3</th>\n",
       "      <td>3</td>\n",
       "      <td>72</td>\n",
       "    </tr>\n",
       "    <tr>\n",
       "      <th>4</th>\n",
       "      <td>4</td>\n",
       "      <td>58</td>\n",
       "    </tr>\n",
       "  </tbody>\n",
       "</table>\n",
       "</div>"
      ],
      "text/plain": [
       "   image_id  category\n",
       "0         0        77\n",
       "1         1        81\n",
       "2         2        52\n",
       "3         3        72\n",
       "4         4        58"
      ]
     },
     "execution_count": 14,
     "metadata": {
      "tags": []
     },
     "output_type": "execute_result"
    }
   ],
   "source": [
    "train.head()"
   ]
  },
  {
   "cell_type": "code",
   "execution_count": 0,
   "metadata": {
    "colab": {
     "base_uri": "https://localhost:8080/",
     "height": 51
    },
    "colab_type": "code",
    "id": "RgsQtMDWgIbC",
    "outputId": "a20fff3f-8c5e-41b1-da53-3e9ab90e82b3"
   },
   "outputs": [
    {
     "name": "stderr",
     "output_type": "stream",
     "text": [
      "/usr/local/lib/python3.6/dist-packages/fastai/vision/learner.py:106: UserWarning: `create_cnn` is deprecated and is now named `cnn_learner`.\n",
      "  warn(\"`create_cnn` is deprecated and is now named `cnn_learner`.\")\n"
     ]
    }
   ],
   "source": [
    "#learn = create_cnn(data,models.resnet101, metrics=[accuracy,fbetaW],pretrained=True).mixup()\n",
    "learn = create_cnn(data, models.resnet152, metrics=[accuracy,fbetaW],model_dir=\"model/\",\n",
    "                  callback_fns=ShowGraph\n",
    "                  ).mixup()"
   ]
  },
  {
   "cell_type": "code",
   "execution_count": 0,
   "metadata": {
    "colab": {},
    "colab_type": "code",
    "id": "ohFW0sg7bWcI"
   },
   "outputs": [],
   "source": [
    "learn = learn.to_fp16()"
   ]
  },
  {
   "cell_type": "code",
   "execution_count": 0,
   "metadata": {
    "colab": {
     "base_uri": "https://localhost:8080/",
     "height": 334
    },
    "colab_type": "code",
    "id": "TLQTNUCPgIXz",
    "outputId": "278a2821-2b06-46b2-94b6-6414404a68cb"
   },
   "outputs": [
    {
     "data": {
      "text/html": [],
      "text/plain": [
       "<IPython.core.display.HTML object>"
      ]
     },
     "metadata": {
      "tags": []
     },
     "output_type": "display_data"
    },
    {
     "name": "stdout",
     "output_type": "stream",
     "text": [
      "LR Finder is complete, type {learner_name}.recorder.plot() to see the graph.\n",
      "Min numerical gradient: 1.32E-02\n",
      "Min loss divided by 10: 6.92E-03\n"
     ]
    },
    {
     "data": {
      "image/png": "[encoded data removed]",
      "text/plain": [
       "<Figure size 432x288 with 1 Axes>"
      ]
     },
     "metadata": {
      "tags": []
     },
     "output_type": "display_data"
    }
   ],
   "source": [
    "learn.lr_find()\n",
    "learn.recorder.plot(suggestion=True)"
   ]
  },
  {
   "cell_type": "code",
   "execution_count": 0,
   "metadata": {
    "colab": {
     "base_uri": "https://localhost:8080/",
     "height": 987
    },
    "colab_type": "code",
    "id": "mzo4ScfNgIVK",
    "outputId": "a0e70795-2621-4f24-e63a-ea24f3163dcd"
   },
   "outputs": [
    {
     "data": {
      "text/html": [
       "<table border=\"1\" class=\"dataframe\">\n",
       "  <thead>\n",
       "    <tr style=\"text-align: left;\">\n",
       "      <th>epoch</th>\n",
       "      <th>train_loss</th>\n",
       "      <th>valid_loss</th>\n",
       "      <th>accuracy</th>\n",
       "      <th>f_beta</th>\n",
       "      <th>time</th>\n",
       "    </tr>\n",
       "  </thead>\n",
       "  <tbody>\n",
       "    <tr>\n",
       "      <td>0</td>\n",
       "      <td>3.994498</td>\n",
       "      <td>2.788830</td>\n",
       "      <td>0.430421</td>\n",
       "      <td>0.367503</td>\n",
       "      <td>09:44</td>\n",
       "    </tr>\n",
       "    <tr>\n",
       "      <td>1</td>\n",
       "      <td>2.607144</td>\n",
       "      <td>1.129697</td>\n",
       "      <td>0.780295</td>\n",
       "      <td>0.759176</td>\n",
       "      <td>09:49</td>\n",
       "    </tr>\n",
       "    <tr>\n",
       "      <td>2</td>\n",
       "      <td>1.984712</td>\n",
       "      <td>0.531395</td>\n",
       "      <td>0.905430</td>\n",
       "      <td>0.902595</td>\n",
       "      <td>09:23</td>\n",
       "    </tr>\n",
       "    <tr>\n",
       "      <td>3</td>\n",
       "      <td>1.716198</td>\n",
       "      <td>0.363015</td>\n",
       "      <td>0.934556</td>\n",
       "      <td>0.933642</td>\n",
       "      <td>09:24</td>\n",
       "    </tr>\n",
       "    <tr>\n",
       "      <td>4</td>\n",
       "      <td>1.609022</td>\n",
       "      <td>0.270562</td>\n",
       "      <td>0.955052</td>\n",
       "      <td>0.954799</td>\n",
       "      <td>09:24</td>\n",
       "    </tr>\n",
       "    <tr>\n",
       "      <td>5</td>\n",
       "      <td>1.508255</td>\n",
       "      <td>0.240327</td>\n",
       "      <td>0.967278</td>\n",
       "      <td>0.966993</td>\n",
       "      <td>09:32</td>\n",
       "    </tr>\n",
       "    <tr>\n",
       "      <td>6</td>\n",
       "      <td>1.452537</td>\n",
       "      <td>0.200641</td>\n",
       "      <td>0.977346</td>\n",
       "      <td>0.977152</td>\n",
       "      <td>09:48</td>\n",
       "    </tr>\n",
       "    <tr>\n",
       "      <td>7</td>\n",
       "      <td>1.370134</td>\n",
       "      <td>0.185866</td>\n",
       "      <td>0.975189</td>\n",
       "      <td>0.974942</td>\n",
       "      <td>09:44</td>\n",
       "    </tr>\n",
       "    <tr>\n",
       "      <td>8</td>\n",
       "      <td>1.391908</td>\n",
       "      <td>0.160459</td>\n",
       "      <td>0.981302</td>\n",
       "      <td>0.981295</td>\n",
       "      <td>09:44</td>\n",
       "    </tr>\n",
       "    <tr>\n",
       "      <td>9</td>\n",
       "      <td>1.351414</td>\n",
       "      <td>0.153799</td>\n",
       "      <td>0.982740</td>\n",
       "      <td>0.982681</td>\n",
       "      <td>09:51</td>\n",
       "    </tr>\n",
       "    <tr>\n",
       "      <td>10</td>\n",
       "      <td>1.310283</td>\n",
       "      <td>0.135897</td>\n",
       "      <td>0.985617</td>\n",
       "      <td>0.985539</td>\n",
       "      <td>09:55</td>\n",
       "    </tr>\n",
       "    <tr>\n",
       "      <td>11</td>\n",
       "      <td>1.308708</td>\n",
       "      <td>0.133903</td>\n",
       "      <td>0.985617</td>\n",
       "      <td>0.985495</td>\n",
       "      <td>09:52</td>\n",
       "    </tr>\n",
       "    <tr>\n",
       "      <td>12</td>\n",
       "      <td>1.265076</td>\n",
       "      <td>0.132755</td>\n",
       "      <td>0.986695</td>\n",
       "      <td>0.986643</td>\n",
       "      <td>10:00</td>\n",
       "    </tr>\n",
       "    <tr>\n",
       "      <td>13</td>\n",
       "      <td>1.281013</td>\n",
       "      <td>0.126874</td>\n",
       "      <td>0.987415</td>\n",
       "      <td>0.987344</td>\n",
       "      <td>09:56</td>\n",
       "    </tr>\n",
       "    <tr>\n",
       "      <td>14</td>\n",
       "      <td>1.274121</td>\n",
       "      <td>0.132870</td>\n",
       "      <td>0.988493</td>\n",
       "      <td>0.988450</td>\n",
       "      <td>09:48</td>\n",
       "    </tr>\n",
       "  </tbody>\n",
       "</table>"
      ],
      "text/plain": [
       "<IPython.core.display.HTML object>"
      ]
     },
     "metadata": {
      "tags": []
     },
     "output_type": "display_data"
    },
    {
     "data": {
      "image/png": "[encoded data removed]",
      "text/plain": [
       "<Figure size 432x288 with 1 Axes>"
      ]
     },
     "metadata": {
      "tags": []
     },
     "output_type": "display_data"
    },
    {
     "name": "stdout",
     "output_type": "stream",
     "text": [
      "Better model found at epoch 0 with f_beta value: 0.36750316619873047.\n",
      "Better model found at epoch 1 with f_beta value: 0.7591758370399475.\n",
      "Better model found at epoch 2 with f_beta value: 0.9025951027870178.\n",
      "Better model found at epoch 3 with f_beta value: 0.9336419701576233.\n",
      "Better model found at epoch 4 with f_beta value: 0.9547985792160034.\n",
      "Better model found at epoch 5 with f_beta value: 0.9669928550720215.\n",
      "Better model found at epoch 6 with f_beta value: 0.9771522879600525.\n",
      "Better model found at epoch 8 with f_beta value: 0.9812949299812317.\n",
      "Better model found at epoch 9 with f_beta value: 0.9826814532279968.\n",
      "Better model found at epoch 10 with f_beta value: 0.9855392575263977.\n",
      "Better model found at epoch 12 with f_beta value: 0.9866427779197693.\n",
      "Better model found at epoch 13 with f_beta value: 0.9873442053794861.\n",
      "Better model found at epoch 14 with f_beta value: 0.98844975233078.\n"
     ]
    }
   ],
   "source": [
    "lr = 1e-03\n",
    "learn.fit_one_cycle(15, slice(lr),wd = 0.2,callbacks=[SaveModelCallback(learn,every='improvement',monitor='f_beta',mode='max',name='resnet-152')]) "
   ]
  },
  {
   "cell_type": "code",
   "execution_count": 0,
   "metadata": {
    "colab": {},
    "colab_type": "code",
    "id": "l8kLtVdwIA3-"
   },
   "outputs": [],
   "source": [
    "learn = learn.load('resnet-152')"
   ]
  },
  {
   "cell_type": "code",
   "execution_count": 0,
   "metadata": {
    "colab": {},
    "colab_type": "code",
    "id": "kbonYpgtiLpB"
   },
   "outputs": [],
   "source": [
    "learn.unfreeze()"
   ]
  },
  {
   "cell_type": "code",
   "execution_count": 0,
   "metadata": {
    "colab": {
     "base_uri": "https://localhost:8080/",
     "height": 34
    },
    "colab_type": "code",
    "id": "jml-r9uFrwHR",
    "outputId": "0d9a2d16-dcdc-4b5a-aaad-871c9798f349"
   },
   "outputs": [
    {
     "data": {
      "text/html": [],
      "text/plain": [
       "<IPython.core.display.HTML object>"
      ]
     },
     "metadata": {
      "tags": []
     },
     "output_type": "display_data"
    },
    {
     "name": "stdout",
     "output_type": "stream",
     "text": [
      "LR Finder is complete, type {learner_name}.recorder.plot() to see the graph.\n"
     ]
    }
   ],
   "source": [
    "learn.lr_find()"
   ]
  },
  {
   "cell_type": "code",
   "execution_count": 0,
   "metadata": {
    "colab": {
     "base_uri": "https://localhost:8080/",
     "height": 317
    },
    "colab_type": "code",
    "id": "wlULFIXirx1S",
    "outputId": "e83ea4e8-a2a2-44aa-e293-96cdb958a480"
   },
   "outputs": [
    {
     "name": "stdout",
     "output_type": "stream",
     "text": [
      "Min numerical gradient: 2.29E-06\n",
      "Min loss divided by 10: 2.29E-05\n"
     ]
    },
    {
     "data": {
      "image/png": "[encoded data removed]",
      "text/plain": [
       "<Figure size 432x288 with 1 Axes>"
      ]
     },
     "metadata": {
      "tags": []
     },
     "output_type": "display_data"
    }
   ],
   "source": [
    "learn.recorder.plot(suggestion=True)\n",
    "min_grad_lr = learn.recorder.min_grad_lr"
   ]
  },
  {
   "cell_type": "code",
   "execution_count": 0,
   "metadata": {
    "colab": {},
    "colab_type": "code",
    "id": "HgwQKr5bFvqs"
   },
   "outputs": [],
   "source": [
    "learn.freeze()"
   ]
  },
  {
   "cell_type": "code",
   "execution_count": 0,
   "metadata": {
    "colab": {
     "base_uri": "https://localhost:8080/",
     "height": 34
    },
    "colab_type": "code",
    "id": "TLVuRBPDFxjd",
    "outputId": "6e226e08-2d83-4426-d34a-ddda5599dfa4"
   },
   "outputs": [
    {
     "data": {
      "text/html": [],
      "text/plain": [
       "<IPython.core.display.HTML object>"
      ]
     },
     "metadata": {
      "tags": []
     },
     "output_type": "display_data"
    },
    {
     "name": "stdout",
     "output_type": "stream",
     "text": [
      "LR Finder is complete, type {learner_name}.recorder.plot() to see the graph.\n"
     ]
    }
   ],
   "source": [
    "learn.lr_find()"
   ]
  },
  {
   "cell_type": "code",
   "execution_count": 0,
   "metadata": {
    "colab": {
     "base_uri": "https://localhost:8080/",
     "height": 317
    },
    "colab_type": "code",
    "id": "1ABYfmQdFz2D",
    "outputId": "4ae6cfba-5aec-45bc-ef0b-98a587be617d"
   },
   "outputs": [
    {
     "name": "stdout",
     "output_type": "stream",
     "text": [
      "Min numerical gradient: 2.29E-06\n",
      "Min loss divided by 10: 2.75E-07\n"
     ]
    },
    {
     "data": {
      "image/png": "[encoded data removed]",
      "text/plain": [
       "<Figure size 432x288 with 1 Axes>"
      ]
     },
     "metadata": {
      "tags": []
     },
     "output_type": "display_data"
    }
   ],
   "source": [
    "learn.recorder.plot(suggestion=True)\n",
    "min_grad_lr = learn.recorder.min_grad_lr"
   ]
  },
  {
   "cell_type": "code",
   "execution_count": 0,
   "metadata": {
    "colab": {
     "base_uri": "https://localhost:8080/",
     "height": 1000
    },
    "colab_type": "code",
    "id": "gkMACoCXFzva",
    "outputId": "d00c65c4-48b0-4627-90dd-018342f2372f"
   },
   "outputs": [
    {
     "data": {
      "text/html": [
       "\n",
       "    <div>\n",
       "        <style>\n",
       "            /* Turns off some styling */\n",
       "            progress {\n",
       "                /* gets rid of default border in Firefox and Opera. */\n",
       "                border: none;\n",
       "                /* Needs to be in here for Safari polyfill so background images work as expected. */\n",
       "                background-size: auto;\n",
       "            }\n",
       "            .progress-bar-interrupted, .progress-bar-interrupted::-webkit-progress-bar {\n",
       "                background: #F44336;\n",
       "            }\n",
       "        </style>\n",
       "      <progress value='4' class='' max='10', style='width:300px; height:20px; vertical-align: middle;'></progress>\n",
       "      40.00% [4/10 50:28<1:15:42]\n",
       "    </div>\n",
       "    \n",
       "<table border=\"1\" class=\"dataframe\">\n",
       "  <thead>\n",
       "    <tr style=\"text-align: left;\">\n",
       "      <th>epoch</th>\n",
       "      <th>train_loss</th>\n",
       "      <th>valid_loss</th>\n",
       "      <th>accuracy</th>\n",
       "      <th>f_beta</th>\n",
       "      <th>time</th>\n",
       "    </tr>\n",
       "  </thead>\n",
       "  <tbody>\n",
       "    <tr>\n",
       "      <td>0</td>\n",
       "      <td>1.246960</td>\n",
       "      <td>0.131832</td>\n",
       "      <td>0.987774</td>\n",
       "      <td>0.987706</td>\n",
       "      <td>12:36</td>\n",
       "    </tr>\n",
       "    <tr>\n",
       "      <td>1</td>\n",
       "      <td>1.257451</td>\n",
       "      <td>0.130808</td>\n",
       "      <td>0.987774</td>\n",
       "      <td>0.987697</td>\n",
       "      <td>12:34</td>\n",
       "    </tr>\n",
       "    <tr>\n",
       "      <td>2</td>\n",
       "      <td>1.283418</td>\n",
       "      <td>0.126595</td>\n",
       "      <td>0.987415</td>\n",
       "      <td>0.987319</td>\n",
       "      <td>12:35</td>\n",
       "    </tr>\n",
       "    <tr>\n",
       "      <td>3</td>\n",
       "      <td>1.257577</td>\n",
       "      <td>0.131484</td>\n",
       "      <td>0.987774</td>\n",
       "      <td>0.987690</td>\n",
       "      <td>12:38</td>\n",
       "    </tr>\n",
       "  </tbody>\n",
       "</table><p>\n",
       "\n",
       "    <div>\n",
       "        <style>\n",
       "            /* Turns off some styling */\n",
       "            progress {\n",
       "                /* gets rid of default border in Firefox and Opera. */\n",
       "                border: none;\n",
       "                /* Needs to be in here for Safari polyfill so background images work as expected. */\n",
       "                background-size: auto;\n",
       "            }\n",
       "            .progress-bar-interrupted, .progress-bar-interrupted::-webkit-progress-bar {\n",
       "                background: #F44336;\n",
       "            }\n",
       "        </style>\n",
       "      <progress value='0' class='progress-bar-interrupted' max='246', style='width:300px; height:20px; vertical-align: middle;'></progress>\n",
       "      Interrupted\n",
       "    </div>\n",
       "    "
      ],
      "text/plain": [
       "<IPython.core.display.HTML object>"
      ]
     },
     "metadata": {
      "tags": []
     },
     "output_type": "display_data"
    },
    {
     "data": {
      "image/png": "[encoded data removed]",
      "text/plain": [
       "<Figure size 432x288 with 1 Axes>"
      ]
     },
     "metadata": {
      "tags": []
     },
     "output_type": "display_data"
    },
    {
     "name": "stdout",
     "output_type": "stream",
     "text": [
      "Better model found at epoch 0 with f_beta value: 0.9877062439918518.\n"
     ]
    },
    {
     "name": "stderr",
     "output_type": "stream",
     "text": [
      "Traceback (most recent call last):\n",
      "  File \"/usr/lib/python3.6/multiprocessing/queues.py\", line 240, in _feed\n",
      "    send_bytes(obj)\n",
      "  File \"/usr/lib/python3.6/multiprocessing/connection.py\", line 200, in send_bytes\n",
      "    self._send_bytes(m[offset:offset + size])\n",
      "  File \"/usr/lib/python3.6/multiprocessing/connection.py\", line 404, in _send_bytes\n",
      "    self._send(header + buf)\n",
      "  File \"/usr/lib/python3.6/multiprocessing/connection.py\", line 368, in _send\n",
      "    n = write(self._handle, buf)\n",
      "BrokenPipeError: [Errno 32] Broken pipe\n"
     ]
    },
    {
     "ename": "KeyboardInterrupt",
     "evalue": "ignored",
     "output_type": "error",
     "traceback": [
      "\u001b[0;31m---------------------------------------------------------------------------\u001b[0m",
      "\u001b[0;31mKeyboardInterrupt\u001b[0m                         Traceback (most recent call last)",
      "\u001b[0;32m<ipython-input-22-019468bf3694>\u001b[0m in \u001b[0;36m<module>\u001b[0;34m()\u001b[0m\n\u001b[1;32m      1\u001b[0m \u001b[0mlr\u001b[0m \u001b[0;34m=\u001b[0m \u001b[0;36m1e-06\u001b[0m\u001b[0;34m\u001b[0m\u001b[0;34m\u001b[0m\u001b[0m\n\u001b[0;32m----> 2\u001b[0;31m \u001b[0mlearn\u001b[0m\u001b[0;34m.\u001b[0m\u001b[0mfit_one_cycle\u001b[0m\u001b[0;34m(\u001b[0m\u001b[0;36m10\u001b[0m\u001b[0;34m,\u001b[0m \u001b[0mslice\u001b[0m\u001b[0;34m(\u001b[0m\u001b[0mlr\u001b[0m\u001b[0;34m)\u001b[0m\u001b[0;34m,\u001b[0m\u001b[0mwd\u001b[0m \u001b[0;34m=\u001b[0m \u001b[0;36m0.2\u001b[0m\u001b[0;34m,\u001b[0m\u001b[0mcallbacks\u001b[0m\u001b[0;34m=\u001b[0m\u001b[0;34m[\u001b[0m\u001b[0mSaveModelCallback\u001b[0m\u001b[0;34m(\u001b[0m\u001b[0mlearn\u001b[0m\u001b[0;34m,\u001b[0m\u001b[0mevery\u001b[0m\u001b[0;34m=\u001b[0m\u001b[0;34m'improvement'\u001b[0m\u001b[0;34m,\u001b[0m\u001b[0mmonitor\u001b[0m\u001b[0;34m=\u001b[0m\u001b[0;34m'f_beta'\u001b[0m\u001b[0;34m,\u001b[0m\u001b[0mmode\u001b[0m\u001b[0;34m=\u001b[0m\u001b[0;34m'max'\u001b[0m\u001b[0;34m,\u001b[0m\u001b[0mname\u001b[0m\u001b[0;34m=\u001b[0m\u001b[0;34m'resnet-152-2'\u001b[0m\u001b[0;34m)\u001b[0m\u001b[0;34m]\u001b[0m\u001b[0;34m)\u001b[0m\u001b[0;34m\u001b[0m\u001b[0;34m\u001b[0m\u001b[0m\n\u001b[0m",
      "\u001b[0;32m/usr/local/lib/python3.6/dist-packages/fastai/train.py\u001b[0m in \u001b[0;36mfit_one_cycle\u001b[0;34m(learn, cyc_len, max_lr, moms, div_factor, pct_start, final_div, wd, callbacks, tot_epochs, start_epoch)\u001b[0m\n\u001b[1;32m     20\u001b[0m     callbacks.append(OneCycleScheduler(learn, max_lr, moms=moms, div_factor=div_factor, pct_start=pct_start,\n\u001b[1;32m     21\u001b[0m                                        final_div=final_div, tot_epochs=tot_epochs, start_epoch=start_epoch))\n\u001b[0;32m---> 22\u001b[0;31m     \u001b[0mlearn\u001b[0m\u001b[0;34m.\u001b[0m\u001b[0mfit\u001b[0m\u001b[0;34m(\u001b[0m\u001b[0mcyc_len\u001b[0m\u001b[0;34m,\u001b[0m \u001b[0mmax_lr\u001b[0m\u001b[0;34m,\u001b[0m \u001b[0mwd\u001b[0m\u001b[0;34m=\u001b[0m\u001b[0mwd\u001b[0m\u001b[0;34m,\u001b[0m \u001b[0mcallbacks\u001b[0m\u001b[0;34m=\u001b[0m\u001b[0mcallbacks\u001b[0m\u001b[0;34m)\u001b[0m\u001b[0;34m\u001b[0m\u001b[0;34m\u001b[0m\u001b[0m\n\u001b[0m\u001b[1;32m     23\u001b[0m \u001b[0;34m\u001b[0m\u001b[0m\n\u001b[1;32m     24\u001b[0m \u001b[0;32mdef\u001b[0m \u001b[0mlr_find\u001b[0m\u001b[0;34m(\u001b[0m\u001b[0mlearn\u001b[0m\u001b[0;34m:\u001b[0m\u001b[0mLearner\u001b[0m\u001b[0;34m,\u001b[0m \u001b[0mstart_lr\u001b[0m\u001b[0;34m:\u001b[0m\u001b[0mFloats\u001b[0m\u001b[0;34m=\u001b[0m\u001b[0;36m1e-7\u001b[0m\u001b[0;34m,\u001b[0m \u001b[0mend_lr\u001b[0m\u001b[0;34m:\u001b[0m\u001b[0mFloats\u001b[0m\u001b[0;34m=\u001b[0m\u001b[0;36m10\u001b[0m\u001b[0;34m,\u001b[0m \u001b[0mnum_it\u001b[0m\u001b[0;34m:\u001b[0m\u001b[0mint\u001b[0m\u001b[0;34m=\u001b[0m\u001b[0;36m100\u001b[0m\u001b[0;34m,\u001b[0m \u001b[0mstop_div\u001b[0m\u001b[0;34m:\u001b[0m\u001b[0mbool\u001b[0m\u001b[0;34m=\u001b[0m\u001b[0;32mTrue\u001b[0m\u001b[0;34m,\u001b[0m \u001b[0mwd\u001b[0m\u001b[0;34m:\u001b[0m\u001b[0mfloat\u001b[0m\u001b[0;34m=\u001b[0m\u001b[0;32mNone\u001b[0m\u001b[0;34m)\u001b[0m\u001b[0;34m:\u001b[0m\u001b[0;34m\u001b[0m\u001b[0;34m\u001b[0m\u001b[0m\n",
      "\u001b[0;32m/usr/local/lib/python3.6/dist-packages/fastai/basic_train.py\u001b[0m in \u001b[0;36mfit\u001b[0;34m(self, epochs, lr, wd, callbacks)\u001b[0m\n\u001b[1;32m    200\u001b[0m         \u001b[0mcallbacks\u001b[0m \u001b[0;34m=\u001b[0m \u001b[0;34m[\u001b[0m\u001b[0mcb\u001b[0m\u001b[0;34m(\u001b[0m\u001b[0mself\u001b[0m\u001b[0;34m)\u001b[0m \u001b[0;32mfor\u001b[0m \u001b[0mcb\u001b[0m \u001b[0;32min\u001b[0m \u001b[0mself\u001b[0m\u001b[0;34m.\u001b[0m\u001b[0mcallback_fns\u001b[0m \u001b[0;34m+\u001b[0m \u001b[0mlistify\u001b[0m\u001b[0;34m(\u001b[0m\u001b[0mdefaults\u001b[0m\u001b[0;34m.\u001b[0m\u001b[0mextra_callback_fns\u001b[0m\u001b[0;34m)\u001b[0m\u001b[0;34m]\u001b[0m \u001b[0;34m+\u001b[0m \u001b[0mlistify\u001b[0m\u001b[0;34m(\u001b[0m\u001b[0mcallbacks\u001b[0m\u001b[0;34m)\u001b[0m\u001b[0;34m\u001b[0m\u001b[0;34m\u001b[0m\u001b[0m\n\u001b[1;32m    201\u001b[0m         \u001b[0mself\u001b[0m\u001b[0;34m.\u001b[0m\u001b[0mcb_fns_registered\u001b[0m \u001b[0;34m=\u001b[0m \u001b[0;32mTrue\u001b[0m\u001b[0;34m\u001b[0m\u001b[0;34m\u001b[0m\u001b[0m\n\u001b[0;32m--> 202\u001b[0;31m         \u001b[0mfit\u001b[0m\u001b[0;34m(\u001b[0m\u001b[0mepochs\u001b[0m\u001b[0;34m,\u001b[0m \u001b[0mself\u001b[0m\u001b[0;34m,\u001b[0m \u001b[0mmetrics\u001b[0m\u001b[0;34m=\u001b[0m\u001b[0mself\u001b[0m\u001b[0;34m.\u001b[0m\u001b[0mmetrics\u001b[0m\u001b[0;34m,\u001b[0m \u001b[0mcallbacks\u001b[0m\u001b[0;34m=\u001b[0m\u001b[0mself\u001b[0m\u001b[0;34m.\u001b[0m\u001b[0mcallbacks\u001b[0m\u001b[0;34m+\u001b[0m\u001b[0mcallbacks\u001b[0m\u001b[0;34m)\u001b[0m\u001b[0;34m\u001b[0m\u001b[0;34m\u001b[0m\u001b[0m\n\u001b[0m\u001b[1;32m    203\u001b[0m \u001b[0;34m\u001b[0m\u001b[0m\n\u001b[1;32m    204\u001b[0m     \u001b[0;32mdef\u001b[0m \u001b[0mcreate_opt\u001b[0m\u001b[0;34m(\u001b[0m\u001b[0mself\u001b[0m\u001b[0;34m,\u001b[0m \u001b[0mlr\u001b[0m\u001b[0;34m:\u001b[0m\u001b[0mFloats\u001b[0m\u001b[0;34m,\u001b[0m \u001b[0mwd\u001b[0m\u001b[0;34m:\u001b[0m\u001b[0mFloats\u001b[0m\u001b[0;34m=\u001b[0m\u001b[0;36m0.\u001b[0m\u001b[0;34m)\u001b[0m\u001b[0;34m->\u001b[0m\u001b[0;32mNone\u001b[0m\u001b[0;34m:\u001b[0m\u001b[0;34m\u001b[0m\u001b[0;34m\u001b[0m\u001b[0m\n",
      "\u001b[0;32m/usr/local/lib/python3.6/dist-packages/fastai/basic_train.py\u001b[0m in \u001b[0;36mfit\u001b[0;34m(epochs, learn, callbacks, metrics)\u001b[0m\n\u001b[1;32m     99\u001b[0m             \u001b[0;32mfor\u001b[0m \u001b[0mxb\u001b[0m\u001b[0;34m,\u001b[0m\u001b[0myb\u001b[0m \u001b[0;32min\u001b[0m \u001b[0mprogress_bar\u001b[0m\u001b[0;34m(\u001b[0m\u001b[0mlearn\u001b[0m\u001b[0;34m.\u001b[0m\u001b[0mdata\u001b[0m\u001b[0;34m.\u001b[0m\u001b[0mtrain_dl\u001b[0m\u001b[0;34m,\u001b[0m \u001b[0mparent\u001b[0m\u001b[0;34m=\u001b[0m\u001b[0mpbar\u001b[0m\u001b[0;34m)\u001b[0m\u001b[0;34m:\u001b[0m\u001b[0;34m\u001b[0m\u001b[0;34m\u001b[0m\u001b[0m\n\u001b[1;32m    100\u001b[0m                 \u001b[0mxb\u001b[0m\u001b[0;34m,\u001b[0m \u001b[0myb\u001b[0m \u001b[0;34m=\u001b[0m \u001b[0mcb_handler\u001b[0m\u001b[0;34m.\u001b[0m\u001b[0mon_batch_begin\u001b[0m\u001b[0;34m(\u001b[0m\u001b[0mxb\u001b[0m\u001b[0;34m,\u001b[0m \u001b[0myb\u001b[0m\u001b[0;34m)\u001b[0m\u001b[0;34m\u001b[0m\u001b[0;34m\u001b[0m\u001b[0m\n\u001b[0;32m--> 101\u001b[0;31m                 \u001b[0mloss\u001b[0m \u001b[0;34m=\u001b[0m \u001b[0mloss_batch\u001b[0m\u001b[0;34m(\u001b[0m\u001b[0mlearn\u001b[0m\u001b[0;34m.\u001b[0m\u001b[0mmodel\u001b[0m\u001b[0;34m,\u001b[0m \u001b[0mxb\u001b[0m\u001b[0;34m,\u001b[0m \u001b[0myb\u001b[0m\u001b[0;34m,\u001b[0m \u001b[0mlearn\u001b[0m\u001b[0;34m.\u001b[0m\u001b[0mloss_func\u001b[0m\u001b[0;34m,\u001b[0m \u001b[0mlearn\u001b[0m\u001b[0;34m.\u001b[0m\u001b[0mopt\u001b[0m\u001b[0;34m,\u001b[0m \u001b[0mcb_handler\u001b[0m\u001b[0;34m)\u001b[0m\u001b[0;34m\u001b[0m\u001b[0;34m\u001b[0m\u001b[0m\n\u001b[0m\u001b[1;32m    102\u001b[0m                 \u001b[0;32mif\u001b[0m \u001b[0mcb_handler\u001b[0m\u001b[0;34m.\u001b[0m\u001b[0mon_batch_end\u001b[0m\u001b[0;34m(\u001b[0m\u001b[0mloss\u001b[0m\u001b[0;34m)\u001b[0m\u001b[0;34m:\u001b[0m \u001b[0;32mbreak\u001b[0m\u001b[0;34m\u001b[0m\u001b[0;34m\u001b[0m\u001b[0m\n\u001b[1;32m    103\u001b[0m \u001b[0;34m\u001b[0m\u001b[0m\n",
      "\u001b[0;32m/usr/local/lib/python3.6/dist-packages/fastai/basic_train.py\u001b[0m in \u001b[0;36mloss_batch\u001b[0;34m(model, xb, yb, loss_func, opt, cb_handler)\u001b[0m\n\u001b[1;32m     33\u001b[0m         \u001b[0mloss\u001b[0m\u001b[0;34m,\u001b[0m\u001b[0mskip_bwd\u001b[0m \u001b[0;34m=\u001b[0m \u001b[0mcb_handler\u001b[0m\u001b[0;34m.\u001b[0m\u001b[0mon_backward_begin\u001b[0m\u001b[0;34m(\u001b[0m\u001b[0mloss\u001b[0m\u001b[0;34m)\u001b[0m\u001b[0;34m\u001b[0m\u001b[0;34m\u001b[0m\u001b[0m\n\u001b[1;32m     34\u001b[0m         \u001b[0;32mif\u001b[0m \u001b[0;32mnot\u001b[0m \u001b[0mskip_bwd\u001b[0m\u001b[0;34m:\u001b[0m                     \u001b[0mloss\u001b[0m\u001b[0;34m.\u001b[0m\u001b[0mbackward\u001b[0m\u001b[0;34m(\u001b[0m\u001b[0;34m)\u001b[0m\u001b[0;34m\u001b[0m\u001b[0;34m\u001b[0m\u001b[0m\n\u001b[0;32m---> 35\u001b[0;31m         \u001b[0;32mif\u001b[0m \u001b[0;32mnot\u001b[0m \u001b[0mcb_handler\u001b[0m\u001b[0;34m.\u001b[0m\u001b[0mon_backward_end\u001b[0m\u001b[0;34m(\u001b[0m\u001b[0;34m)\u001b[0m\u001b[0;34m:\u001b[0m \u001b[0mopt\u001b[0m\u001b[0;34m.\u001b[0m\u001b[0mstep\u001b[0m\u001b[0;34m(\u001b[0m\u001b[0;34m)\u001b[0m\u001b[0;34m\u001b[0m\u001b[0;34m\u001b[0m\u001b[0m\n\u001b[0m\u001b[1;32m     36\u001b[0m         \u001b[0;32mif\u001b[0m \u001b[0;32mnot\u001b[0m \u001b[0mcb_handler\u001b[0m\u001b[0;34m.\u001b[0m\u001b[0mon_step_end\u001b[0m\u001b[0;34m(\u001b[0m\u001b[0;34m)\u001b[0m\u001b[0;34m:\u001b[0m     \u001b[0mopt\u001b[0m\u001b[0;34m.\u001b[0m\u001b[0mzero_grad\u001b[0m\u001b[0;34m(\u001b[0m\u001b[0;34m)\u001b[0m\u001b[0;34m\u001b[0m\u001b[0;34m\u001b[0m\u001b[0m\n\u001b[1;32m     37\u001b[0m \u001b[0;34m\u001b[0m\u001b[0m\n",
      "\u001b[0;32m/usr/local/lib/python3.6/dist-packages/fastai/callback.py\u001b[0m in \u001b[0;36mon_backward_end\u001b[0;34m(self)\u001b[0m\n\u001b[1;32m    295\u001b[0m     \u001b[0;32mdef\u001b[0m \u001b[0mon_backward_end\u001b[0m\u001b[0;34m(\u001b[0m\u001b[0mself\u001b[0m\u001b[0;34m)\u001b[0m\u001b[0;34m->\u001b[0m\u001b[0mAny\u001b[0m\u001b[0;34m:\u001b[0m\u001b[0;34m\u001b[0m\u001b[0;34m\u001b[0m\u001b[0m\n\u001b[1;32m    296\u001b[0m         \u001b[0;34m\"Handle end of gradient calculation.\"\u001b[0m\u001b[0;34m\u001b[0m\u001b[0;34m\u001b[0m\u001b[0m\n\u001b[0;32m--> 297\u001b[0;31m         \u001b[0mself\u001b[0m\u001b[0;34m(\u001b[0m\u001b[0;34m'backward_end'\u001b[0m\u001b[0;34m,\u001b[0m \u001b[0mcall_mets\u001b[0m\u001b[0;34m=\u001b[0m\u001b[0;32mFalse\u001b[0m\u001b[0;34m)\u001b[0m\u001b[0;34m\u001b[0m\u001b[0;34m\u001b[0m\u001b[0m\n\u001b[0m\u001b[1;32m    298\u001b[0m         \u001b[0;32mreturn\u001b[0m \u001b[0mself\u001b[0m\u001b[0;34m.\u001b[0m\u001b[0mstate_dict\u001b[0m\u001b[0;34m[\u001b[0m\u001b[0;34m'skip_step'\u001b[0m\u001b[0;34m]\u001b[0m\u001b[0;34m\u001b[0m\u001b[0;34m\u001b[0m\u001b[0m\n\u001b[1;32m    299\u001b[0m \u001b[0;34m\u001b[0m\u001b[0m\n",
      "\u001b[0;32m/usr/local/lib/python3.6/dist-packages/fastai/callback.py\u001b[0m in \u001b[0;36m__call__\u001b[0;34m(self, cb_name, call_mets, **kwargs)\u001b[0m\n\u001b[1;32m    249\u001b[0m         \u001b[0;32mif\u001b[0m \u001b[0mcall_mets\u001b[0m\u001b[0;34m:\u001b[0m\u001b[0;34m\u001b[0m\u001b[0;34m\u001b[0m\u001b[0m\n\u001b[1;32m    250\u001b[0m             \u001b[0;32mfor\u001b[0m \u001b[0mmet\u001b[0m \u001b[0;32min\u001b[0m \u001b[0mself\u001b[0m\u001b[0;34m.\u001b[0m\u001b[0mmetrics\u001b[0m\u001b[0;34m:\u001b[0m \u001b[0mself\u001b[0m\u001b[0;34m.\u001b[0m\u001b[0m_call_and_update\u001b[0m\u001b[0;34m(\u001b[0m\u001b[0mmet\u001b[0m\u001b[0;34m,\u001b[0m \u001b[0mcb_name\u001b[0m\u001b[0;34m,\u001b[0m \u001b[0;34m**\u001b[0m\u001b[0mkwargs\u001b[0m\u001b[0;34m)\u001b[0m\u001b[0;34m\u001b[0m\u001b[0;34m\u001b[0m\u001b[0m\n\u001b[0;32m--> 251\u001b[0;31m         \u001b[0;32mfor\u001b[0m \u001b[0mcb\u001b[0m \u001b[0;32min\u001b[0m \u001b[0mself\u001b[0m\u001b[0;34m.\u001b[0m\u001b[0mcallbacks\u001b[0m\u001b[0;34m:\u001b[0m \u001b[0mself\u001b[0m\u001b[0;34m.\u001b[0m\u001b[0m_call_and_update\u001b[0m\u001b[0;34m(\u001b[0m\u001b[0mcb\u001b[0m\u001b[0;34m,\u001b[0m \u001b[0mcb_name\u001b[0m\u001b[0;34m,\u001b[0m \u001b[0;34m**\u001b[0m\u001b[0mkwargs\u001b[0m\u001b[0;34m)\u001b[0m\u001b[0;34m\u001b[0m\u001b[0;34m\u001b[0m\u001b[0m\n\u001b[0m\u001b[1;32m    252\u001b[0m \u001b[0;34m\u001b[0m\u001b[0m\n\u001b[1;32m    253\u001b[0m     \u001b[0;32mdef\u001b[0m \u001b[0mset_dl\u001b[0m\u001b[0;34m(\u001b[0m\u001b[0mself\u001b[0m\u001b[0;34m,\u001b[0m \u001b[0mdl\u001b[0m\u001b[0;34m:\u001b[0m\u001b[0mDataLoader\u001b[0m\u001b[0;34m)\u001b[0m\u001b[0;34m:\u001b[0m\u001b[0;34m\u001b[0m\u001b[0;34m\u001b[0m\u001b[0m\n",
      "\u001b[0;32m/usr/local/lib/python3.6/dist-packages/fastai/callback.py\u001b[0m in \u001b[0;36m_call_and_update\u001b[0;34m(self, cb, cb_name, **kwargs)\u001b[0m\n\u001b[1;32m    239\u001b[0m     \u001b[0;32mdef\u001b[0m \u001b[0m_call_and_update\u001b[0m\u001b[0;34m(\u001b[0m\u001b[0mself\u001b[0m\u001b[0;34m,\u001b[0m \u001b[0mcb\u001b[0m\u001b[0;34m,\u001b[0m \u001b[0mcb_name\u001b[0m\u001b[0;34m,\u001b[0m \u001b[0;34m**\u001b[0m\u001b[0mkwargs\u001b[0m\u001b[0;34m)\u001b[0m\u001b[0;34m->\u001b[0m\u001b[0;32mNone\u001b[0m\u001b[0;34m:\u001b[0m\u001b[0;34m\u001b[0m\u001b[0;34m\u001b[0m\u001b[0m\n\u001b[1;32m    240\u001b[0m         \u001b[0;34m\"Call `cb_name` on `cb` and update the inner state.\"\u001b[0m\u001b[0;34m\u001b[0m\u001b[0;34m\u001b[0m\u001b[0m\n\u001b[0;32m--> 241\u001b[0;31m         \u001b[0mnew\u001b[0m \u001b[0;34m=\u001b[0m \u001b[0mifnone\u001b[0m\u001b[0;34m(\u001b[0m\u001b[0mgetattr\u001b[0m\u001b[0;34m(\u001b[0m\u001b[0mcb\u001b[0m\u001b[0;34m,\u001b[0m \u001b[0;34mf'on_{cb_name}'\u001b[0m\u001b[0;34m)\u001b[0m\u001b[0;34m(\u001b[0m\u001b[0;34m**\u001b[0m\u001b[0mself\u001b[0m\u001b[0;34m.\u001b[0m\u001b[0mstate_dict\u001b[0m\u001b[0;34m,\u001b[0m \u001b[0;34m**\u001b[0m\u001b[0mkwargs\u001b[0m\u001b[0;34m)\u001b[0m\u001b[0;34m,\u001b[0m \u001b[0mdict\u001b[0m\u001b[0;34m(\u001b[0m\u001b[0;34m)\u001b[0m\u001b[0;34m)\u001b[0m\u001b[0;34m\u001b[0m\u001b[0;34m\u001b[0m\u001b[0m\n\u001b[0m\u001b[1;32m    242\u001b[0m         \u001b[0;32mfor\u001b[0m \u001b[0mk\u001b[0m\u001b[0;34m,\u001b[0m\u001b[0mv\u001b[0m \u001b[0;32min\u001b[0m \u001b[0mnew\u001b[0m\u001b[0;34m.\u001b[0m\u001b[0mitems\u001b[0m\u001b[0;34m(\u001b[0m\u001b[0;34m)\u001b[0m\u001b[0;34m:\u001b[0m\u001b[0;34m\u001b[0m\u001b[0;34m\u001b[0m\u001b[0m\n\u001b[1;32m    243\u001b[0m             \u001b[0;32mif\u001b[0m \u001b[0mk\u001b[0m \u001b[0;32mnot\u001b[0m \u001b[0;32min\u001b[0m \u001b[0mself\u001b[0m\u001b[0;34m.\u001b[0m\u001b[0mstate_dict\u001b[0m\u001b[0;34m:\u001b[0m\u001b[0;34m\u001b[0m\u001b[0;34m\u001b[0m\u001b[0m\n",
      "\u001b[0;32m/usr/local/lib/python3.6/dist-packages/fastai/callbacks/fp16.py\u001b[0m in \u001b[0;36mon_backward_end\u001b[0;34m(self, **kwargs)\u001b[0m\n\u001b[1;32m     98\u001b[0m     \u001b[0;32mdef\u001b[0m \u001b[0mon_backward_end\u001b[0m\u001b[0;34m(\u001b[0m\u001b[0mself\u001b[0m\u001b[0;34m,\u001b[0m \u001b[0;34m**\u001b[0m\u001b[0mkwargs\u001b[0m\u001b[0;34m:\u001b[0m\u001b[0mAny\u001b[0m\u001b[0;34m)\u001b[0m\u001b[0;34m->\u001b[0m\u001b[0;32mNone\u001b[0m\u001b[0;34m:\u001b[0m\u001b[0;34m\u001b[0m\u001b[0;34m\u001b[0m\u001b[0m\n\u001b[1;32m     99\u001b[0m         \u001b[0;34m\"Convert the gradients back to FP32 and divide them by the scale.\"\u001b[0m\u001b[0;34m\u001b[0m\u001b[0;34m\u001b[0m\u001b[0m\n\u001b[0;32m--> 100\u001b[0;31m         \u001b[0;32mif\u001b[0m \u001b[0mself\u001b[0m\u001b[0;34m.\u001b[0m\u001b[0mdynamic\u001b[0m \u001b[0;32mand\u001b[0m \u001b[0mgrad_overflow\u001b[0m\u001b[0;34m(\u001b[0m\u001b[0mself\u001b[0m\u001b[0;34m.\u001b[0m\u001b[0mmodel_params\u001b[0m\u001b[0;34m)\u001b[0m \u001b[0;32mand\u001b[0m \u001b[0mself\u001b[0m\u001b[0;34m.\u001b[0m\u001b[0mloss_scale\u001b[0m \u001b[0;34m>\u001b[0m \u001b[0;36m1\u001b[0m\u001b[0;34m:\u001b[0m\u001b[0;34m\u001b[0m\u001b[0;34m\u001b[0m\u001b[0m\n\u001b[0m\u001b[1;32m    101\u001b[0m             \u001b[0mself\u001b[0m\u001b[0;34m.\u001b[0m\u001b[0mloss_scale\u001b[0m \u001b[0;34m/=\u001b[0m \u001b[0;36m2\u001b[0m\u001b[0;34m\u001b[0m\u001b[0;34m\u001b[0m\u001b[0m\n\u001b[1;32m    102\u001b[0m             \u001b[0mself\u001b[0m\u001b[0;34m.\u001b[0m\u001b[0mnoskip\u001b[0m \u001b[0;34m=\u001b[0m \u001b[0;36m0\u001b[0m\u001b[0;34m\u001b[0m\u001b[0;34m\u001b[0m\u001b[0m\n",
      "\u001b[0;32m/usr/local/lib/python3.6/dist-packages/fastai/callbacks/fp16.py\u001b[0m in \u001b[0;36mgrad_overflow\u001b[0;34m(param_group)\u001b[0m\n\u001b[1;32m     58\u001b[0m         \u001b[0;32mfor\u001b[0m \u001b[0mp\u001b[0m \u001b[0;32min\u001b[0m \u001b[0mgroup\u001b[0m\u001b[0;34m:\u001b[0m\u001b[0;34m\u001b[0m\u001b[0;34m\u001b[0m\u001b[0m\n\u001b[1;32m     59\u001b[0m             \u001b[0;32mif\u001b[0m \u001b[0mp\u001b[0m\u001b[0;34m.\u001b[0m\u001b[0mgrad\u001b[0m \u001b[0;32mis\u001b[0m \u001b[0;32mnot\u001b[0m \u001b[0;32mNone\u001b[0m\u001b[0;34m:\u001b[0m\u001b[0;34m\u001b[0m\u001b[0;34m\u001b[0m\u001b[0m\n\u001b[0;32m---> 60\u001b[0;31m                 \u001b[0ms\u001b[0m \u001b[0;34m=\u001b[0m \u001b[0mfloat\u001b[0m\u001b[0;34m(\u001b[0m\u001b[0mp\u001b[0m\u001b[0;34m.\u001b[0m\u001b[0mgrad\u001b[0m\u001b[0;34m.\u001b[0m\u001b[0mdata\u001b[0m\u001b[0;34m.\u001b[0m\u001b[0mfloat\u001b[0m\u001b[0;34m(\u001b[0m\u001b[0;34m)\u001b[0m\u001b[0;34m.\u001b[0m\u001b[0msum\u001b[0m\u001b[0;34m(\u001b[0m\u001b[0;34m)\u001b[0m\u001b[0;34m)\u001b[0m\u001b[0;34m\u001b[0m\u001b[0;34m\u001b[0m\u001b[0m\n\u001b[0m\u001b[1;32m     61\u001b[0m                 \u001b[0;32mif\u001b[0m \u001b[0ms\u001b[0m \u001b[0;34m==\u001b[0m \u001b[0mfloat\u001b[0m\u001b[0;34m(\u001b[0m\u001b[0;34m'inf'\u001b[0m\u001b[0;34m)\u001b[0m \u001b[0;32mor\u001b[0m \u001b[0ms\u001b[0m \u001b[0;34m==\u001b[0m \u001b[0mfloat\u001b[0m\u001b[0;34m(\u001b[0m\u001b[0;34m'-inf'\u001b[0m\u001b[0;34m)\u001b[0m \u001b[0;32mor\u001b[0m \u001b[0ms\u001b[0m \u001b[0;34m!=\u001b[0m \u001b[0ms\u001b[0m\u001b[0;34m:\u001b[0m \u001b[0;32mreturn\u001b[0m \u001b[0;32mTrue\u001b[0m\u001b[0;34m\u001b[0m\u001b[0;34m\u001b[0m\u001b[0m\n\u001b[1;32m     62\u001b[0m     \u001b[0;32mreturn\u001b[0m \u001b[0;32mFalse\u001b[0m\u001b[0;34m\u001b[0m\u001b[0;34m\u001b[0m\u001b[0m\n",
      "\u001b[0;31mKeyboardInterrupt\u001b[0m: "
     ]
    },
    {
     "data": {
      "image/png": "[encoded data removed]",
      "text/plain": [
       "<Figure size 432x288 with 1 Axes>"
      ]
     },
     "metadata": {
      "tags": []
     },
     "output_type": "display_data"
    }
   ],
   "source": [
    "lr = 1e-06\n",
    "learn.fit_one_cycle(10, slice(lr),wd = 0.2,callbacks=[SaveModelCallback(learn,every='improvement',monitor='f_beta',mode='max',name='resnet-152-2')]) "
   ]
  },
  {
   "cell_type": "code",
   "execution_count": 0,
   "metadata": {
    "colab": {
     "base_uri": "https://localhost:8080/",
     "height": 800
    },
    "colab_type": "code",
    "id": "S0NLM89_sW59",
    "outputId": "caa8bac7-3e2b-4615-a223-397705604e15"
   },
   "outputs": [
    {
     "data": {
      "text/html": [
       "<table border=\"1\" class=\"dataframe\">\n",
       "  <thead>\n",
       "    <tr style=\"text-align: left;\">\n",
       "      <th>epoch</th>\n",
       "      <th>train_loss</th>\n",
       "      <th>valid_loss</th>\n",
       "      <th>accuracy</th>\n",
       "      <th>f_beta</th>\n",
       "      <th>time</th>\n",
       "    </tr>\n",
       "  </thead>\n",
       "  <tbody>\n",
       "    <tr>\n",
       "      <td>0</td>\n",
       "      <td>0.085708</td>\n",
       "      <td>0.029823</td>\n",
       "      <td>0.994606</td>\n",
       "      <td>0.994661</td>\n",
       "      <td>10:05</td>\n",
       "    </tr>\n",
       "    <tr>\n",
       "      <td>1</td>\n",
       "      <td>0.094713</td>\n",
       "      <td>0.029346</td>\n",
       "      <td>0.994606</td>\n",
       "      <td>0.994629</td>\n",
       "      <td>09:57</td>\n",
       "    </tr>\n",
       "    <tr>\n",
       "      <td>2</td>\n",
       "      <td>0.080315</td>\n",
       "      <td>0.029181</td>\n",
       "      <td>0.994247</td>\n",
       "      <td>0.994301</td>\n",
       "      <td>10:00</td>\n",
       "    </tr>\n",
       "    <tr>\n",
       "      <td>3</td>\n",
       "      <td>0.083878</td>\n",
       "      <td>0.030005</td>\n",
       "      <td>0.994247</td>\n",
       "      <td>0.994262</td>\n",
       "      <td>09:59</td>\n",
       "    </tr>\n",
       "    <tr>\n",
       "      <td>4</td>\n",
       "      <td>0.084492</td>\n",
       "      <td>0.030466</td>\n",
       "      <td>0.993887</td>\n",
       "      <td>0.993927</td>\n",
       "      <td>09:58</td>\n",
       "    </tr>\n",
       "    <tr>\n",
       "      <td>5</td>\n",
       "      <td>0.085446</td>\n",
       "      <td>0.029369</td>\n",
       "      <td>0.994247</td>\n",
       "      <td>0.994271</td>\n",
       "      <td>09:59</td>\n",
       "    </tr>\n",
       "    <tr>\n",
       "      <td>6</td>\n",
       "      <td>0.086202</td>\n",
       "      <td>0.028805</td>\n",
       "      <td>0.994606</td>\n",
       "      <td>0.994629</td>\n",
       "      <td>10:01</td>\n",
       "    </tr>\n",
       "    <tr>\n",
       "      <td>7</td>\n",
       "      <td>0.084046</td>\n",
       "      <td>0.029615</td>\n",
       "      <td>0.994606</td>\n",
       "      <td>0.994661</td>\n",
       "      <td>10:08</td>\n",
       "    </tr>\n",
       "    <tr>\n",
       "      <td>8</td>\n",
       "      <td>0.084656</td>\n",
       "      <td>0.029857</td>\n",
       "      <td>0.993887</td>\n",
       "      <td>0.993903</td>\n",
       "      <td>10:04</td>\n",
       "    </tr>\n",
       "    <tr>\n",
       "      <td>9</td>\n",
       "      <td>0.088786</td>\n",
       "      <td>0.029556</td>\n",
       "      <td>0.994606</td>\n",
       "      <td>0.994646</td>\n",
       "      <td>10:09</td>\n",
       "    </tr>\n",
       "    <tr>\n",
       "      <td>10</td>\n",
       "      <td>0.082234</td>\n",
       "      <td>0.029658</td>\n",
       "      <td>0.994247</td>\n",
       "      <td>0.994271</td>\n",
       "      <td>10:07</td>\n",
       "    </tr>\n",
       "    <tr>\n",
       "      <td>11</td>\n",
       "      <td>0.081370</td>\n",
       "      <td>0.029816</td>\n",
       "      <td>0.994606</td>\n",
       "      <td>0.994661</td>\n",
       "      <td>10:06</td>\n",
       "    </tr>\n",
       "    <tr>\n",
       "      <td>12</td>\n",
       "      <td>0.088064</td>\n",
       "      <td>0.029913</td>\n",
       "      <td>0.994247</td>\n",
       "      <td>0.994262</td>\n",
       "      <td>09:55</td>\n",
       "    </tr>\n",
       "    <tr>\n",
       "      <td>13</td>\n",
       "      <td>0.077817</td>\n",
       "      <td>0.028870</td>\n",
       "      <td>0.994606</td>\n",
       "      <td>0.994661</td>\n",
       "      <td>10:04</td>\n",
       "    </tr>\n",
       "    <tr>\n",
       "      <td>14</td>\n",
       "      <td>0.085643</td>\n",
       "      <td>0.029446</td>\n",
       "      <td>0.993887</td>\n",
       "      <td>0.993903</td>\n",
       "      <td>10:03</td>\n",
       "    </tr>\n",
       "  </tbody>\n",
       "</table>"
      ],
      "text/plain": [
       "<IPython.core.display.HTML object>"
      ]
     },
     "metadata": {
      "tags": []
     },
     "output_type": "display_data"
    },
    {
     "data": {
      "image/png": "[encoded data removed]",
      "text/plain": [
       "<Figure size 432x288 with 1 Axes>"
      ]
     },
     "metadata": {
      "tags": []
     },
     "output_type": "display_data"
    },
    {
     "name": "stdout",
     "output_type": "stream",
     "text": [
      "Better model found at epoch 0 with f_beta value: 0.9946608543395996.\n",
      "Better model found at epoch 0 with f_beta value: 0.9946608543395996.\n"
     ]
    }
   ],
   "source": [
    "#lr = 1e-06\n",
    "#learn.fit_one_cycle(15, slice(min_grad_lr),wd = 0.2,callbacks=[SaveModelCallback(learn,every='improvement',monitor='f_beta',mode='max',name='resnet-152')]) \n",
    "learn.fit_one_cycle(15, slice(2e-05),wd = 0.2,callbacks=[SaveModelCallback(learn,every='improvement',monitor='f_beta',mode='max',name='resnet-152-2')]) "
   ]
  },
  {
   "cell_type": "code",
   "execution_count": 0,
   "metadata": {
    "colab": {},
    "colab_type": "code",
    "id": "YMy3W_WfCpI8"
   },
   "outputs": [],
   "source": [
    "learn = learn.load('resnet-152')"
   ]
  },
  {
   "cell_type": "code",
   "execution_count": 0,
   "metadata": {
    "colab": {},
    "colab_type": "code",
    "id": "Tf3U6dBwFOc8"
   },
   "outputs": [],
   "source": [
    "learn.data = data"
   ]
  },
  {
   "cell_type": "code",
   "execution_count": 0,
   "metadata": {
    "colab": {},
    "colab_type": "code",
    "id": "INxK6REKCr2x"
   },
   "outputs": [],
   "source": [
    "learn.unfreeze()"
   ]
  },
  {
   "cell_type": "code",
   "execution_count": 0,
   "metadata": {
    "colab": {},
    "colab_type": "code",
    "id": "um297m47yTh4"
   },
   "outputs": [],
   "source": [
    "data = ImageDataBunch.from_csv(path, folder='train', csv_labels='train.csv',suffix='.jpg',\n",
    "                               valid_pct=0.15, test='test', ds_tfms=tfms,\n",
    "                               size=224,bs = 64).normalize(imagenet_stats)"
   ]
  },
  {
   "cell_type": "code",
   "execution_count": 0,
   "metadata": {
    "colab": {},
    "colab_type": "code",
    "id": "K57MlcHxyTef"
   },
   "outputs": [],
   "source": [
    "learn.data = data"
   ]
  },
  {
   "cell_type": "code",
   "execution_count": 0,
   "metadata": {
    "colab": {},
    "colab_type": "code",
    "id": "F1jltMpkspEB"
   },
   "outputs": [],
   "source": [
    "learn.freeze()"
   ]
  },
  {
   "cell_type": "code",
   "execution_count": 0,
   "metadata": {
    "colab": {},
    "colab_type": "code",
    "id": "E2OsRM00zFK-"
   },
   "outputs": [],
   "source": [
    "interp = ClassificationInterpretation.from_learner(learn)"
   ]
  },
  {
   "cell_type": "code",
   "execution_count": 0,
   "metadata": {
    "colab": {},
    "colab_type": "code",
    "id": "Cw0cZCRKXNlf"
   },
   "outputs": [],
   "source": [
    "losses,idxs = interp.top_losses()"
   ]
  },
  {
   "cell_type": "code",
   "execution_count": 0,
   "metadata": {
    "colab": {
     "base_uri": "https://localhost:8080/",
     "height": 34
    },
    "colab_type": "code",
    "id": "FK9lNwVUXX52",
    "outputId": "1f9ea358-d430-40ca-dfac-d79ac10d68a5"
   },
   "outputs": [
    {
     "data": {
      "text/plain": [
       "True"
      ]
     },
     "execution_count": 56,
     "metadata": {
      "tags": []
     },
     "output_type": "execute_result"
    }
   ],
   "source": [
    "len(data.valid_ds)==len(losses)==len(idxs)"
   ]
  },
  {
   "cell_type": "code",
   "execution_count": 0,
   "metadata": {
    "colab": {
     "base_uri": "https://localhost:8080/",
     "height": 204
    },
    "colab_type": "code",
    "id": "geNdqDTLWmnX",
    "outputId": "121c9e25-8b5f-425d-803e-537363bbe86b"
   },
   "outputs": [
    {
     "data": {
      "text/html": [
       "<div>\n",
       "<style scoped>\n",
       "    .dataframe tbody tr th:only-of-type {\n",
       "        vertical-align: middle;\n",
       "    }\n",
       "\n",
       "    .dataframe tbody tr th {\n",
       "        vertical-align: top;\n",
       "    }\n",
       "\n",
       "    .dataframe thead th {\n",
       "        text-align: right;\n",
       "    }\n",
       "</style>\n",
       "<table border=\"1\" class=\"dataframe\">\n",
       "  <thead>\n",
       "    <tr style=\"text-align: right;\">\n",
       "      <th></th>\n",
       "      <th>image_id</th>\n",
       "      <th>category</th>\n",
       "    </tr>\n",
       "  </thead>\n",
       "  <tbody>\n",
       "    <tr>\n",
       "      <th>0</th>\n",
       "      <td>18540</td>\n",
       "      <td>NaN</td>\n",
       "    </tr>\n",
       "    <tr>\n",
       "      <th>1</th>\n",
       "      <td>18541</td>\n",
       "      <td>NaN</td>\n",
       "    </tr>\n",
       "    <tr>\n",
       "      <th>2</th>\n",
       "      <td>18542</td>\n",
       "      <td>NaN</td>\n",
       "    </tr>\n",
       "    <tr>\n",
       "      <th>3</th>\n",
       "      <td>18543</td>\n",
       "      <td>NaN</td>\n",
       "    </tr>\n",
       "    <tr>\n",
       "      <th>4</th>\n",
       "      <td>18544</td>\n",
       "      <td>NaN</td>\n",
       "    </tr>\n",
       "  </tbody>\n",
       "</table>\n",
       "</div>"
      ],
      "text/plain": [
       "   image_id  category\n",
       "0     18540       NaN\n",
       "1     18541       NaN\n",
       "2     18542       NaN\n",
       "3     18543       NaN\n",
       "4     18544       NaN"
      ]
     },
     "execution_count": 24,
     "metadata": {
      "tags": []
     },
     "output_type": "execute_result"
    }
   ],
   "source": [
    "test = pd.read_csv(path/'test.csv')\n",
    "test.head()"
   ]
  },
  {
   "cell_type": "code",
   "execution_count": 0,
   "metadata": {
    "colab": {},
    "colab_type": "code",
    "id": "VDwZG74fKPX0"
   },
   "outputs": [],
   "source": [
    "learn = learn.to_fp32()"
   ]
  },
  {
   "cell_type": "code",
   "execution_count": 0,
   "metadata": {
    "colab": {
     "base_uri": "https://localhost:8080/",
     "height": 17
    },
    "colab_type": "code",
    "id": "EyRs5HLOWmkA",
    "outputId": "818c703d-5c42-43e4-9000-eadb7f9caabf"
   },
   "outputs": [
    {
     "data": {
      "text/html": [],
      "text/plain": [
       "<IPython.core.display.HTML object>"
      ]
     },
     "metadata": {
      "tags": []
     },
     "output_type": "display_data"
    }
   ],
   "source": [
    "#predsOne, yOne = learn.get_preds(ds_type=DatasetType.Test)\n",
    "preds, y = learn.TTA(ds_type=DatasetType.Test)"
   ]
  },
  {
   "cell_type": "code",
   "execution_count": 0,
   "metadata": {
    "colab": {},
    "colab_type": "code",
    "id": "Fea1VcDRXAo0"
   },
   "outputs": [],
   "source": [
    "y = torch.argmax(preds, dim=1)\n",
    "y = y.numpy()\n",
    "y = y+1"
   ]
  },
  {
   "cell_type": "code",
   "execution_count": 0,
   "metadata": {
    "colab": {},
    "colab_type": "code",
    "id": "y8jrbS3gXAln"
   },
   "outputs": [],
   "source": [
    "testList = os.listdir(path/'test')"
   ]
  },
  {
   "cell_type": "code",
   "execution_count": 0,
   "metadata": {
    "colab": {},
    "colab_type": "code",
    "id": "futoCh1QXAiq"
   },
   "outputs": [],
   "source": [
    "testFold = pd.DataFrame({'image_id':[],'category':[]})"
   ]
  },
  {
   "cell_type": "code",
   "execution_count": 0,
   "metadata": {
    "colab": {
     "base_uri": "https://localhost:8080/",
     "height": 34
    },
    "colab_type": "code",
    "id": "lMQEI5lOOVCo",
    "outputId": "28de0732-e68f-4767-cfe7-1c2970f28de6"
   },
   "outputs": [
    {
     "data": {
      "text/plain": [
       "2010"
      ]
     },
     "execution_count": 30,
     "metadata": {
      "tags": []
     },
     "output_type": "execute_result"
    }
   ],
   "source": [
    "len(testList)"
   ]
  },
  {
   "cell_type": "code",
   "execution_count": 0,
   "metadata": {
    "colab": {
     "base_uri": "https://localhost:8080/",
     "height": 34
    },
    "colab_type": "code",
    "id": "XBspLjDzOb5v",
    "outputId": "a3c7e689-64f8-4705-96c5-6263ae9e8511"
   },
   "outputs": [
    {
     "name": "stdout",
     "output_type": "stream",
     "text": [
      "found\n"
     ]
    }
   ],
   "source": [
    "flagger=0\n",
    "for i in testList:\n",
    "  if('Store' in i):\n",
    "    print('found')\n",
    "    break\n",
    "  flagger=flagger+1"
   ]
  },
  {
   "cell_type": "code",
   "execution_count": 0,
   "metadata": {
    "colab": {
     "base_uri": "https://localhost:8080/",
     "height": 34
    },
    "colab_type": "code",
    "id": "t3tHugnWOQqP",
    "outputId": "40dc25e9-3285-4d7d-a2ac-9995744240b2"
   },
   "outputs": [
    {
     "data": {
      "text/plain": [
       "'.DS_Store'"
      ]
     },
     "execution_count": 32,
     "metadata": {
      "tags": []
     },
     "output_type": "execute_result"
    }
   ],
   "source": [
    "testList[flagger]"
   ]
  },
  {
   "cell_type": "code",
   "execution_count": 0,
   "metadata": {
    "colab": {},
    "colab_type": "code",
    "id": "iugG7pwEXGN4"
   },
   "outputs": [],
   "source": [
    "iterator = 0\n",
    "for imgName in testList:\n",
    "    if(iterator<flagger):\n",
    "      imgName = imgName.split('.')[0]\n",
    "      testFold.loc[iterator,'image_id'] = imgName\n",
    "      testFold.loc[iterator,'category'] = int(y[iterator])\n",
    "      iterator = iterator + 1\n",
    "    elif(iterator==flagger):\n",
    "      iterator = iterator+1\n",
    "    else:\n",
    "      imgName = imgName.split('.')[0]\n",
    "      testFold.loc[iterator-1,'image_id'] = imgName\n",
    "      testFold.loc[iterator-1,'category'] = int(y[iterator-1])\n",
    "      iterator = iterator + 1"
   ]
  },
  {
   "cell_type": "code",
   "execution_count": 0,
   "metadata": {
    "colab": {},
    "colab_type": "code",
    "id": "SknmLxkVXGKv"
   },
   "outputs": [],
   "source": [
    "for row in (test['image_id'].unique()):\n",
    "    test.loc[test['image_id']==row,'category'] = int(testFold.loc[testFold['image_id']==str(row),'category'].values[0])"
   ]
  },
  {
   "cell_type": "code",
   "execution_count": 0,
   "metadata": {
    "colab": {},
    "colab_type": "code",
    "id": "IAPSVHkZXGHr"
   },
   "outputs": [],
   "source": [
    "test['category'] = test['category'].astype('int')"
   ]
  },
  {
   "cell_type": "code",
   "execution_count": 0,
   "metadata": {
    "colab": {
     "base_uri": "https://localhost:8080/",
     "height": 34
    },
    "colab_type": "code",
    "id": "Yl72hDXpXSMq",
    "outputId": "41f9d90e-b620-4f59-d055-467755aa7831"
   },
   "outputs": [
    {
     "data": {
      "text/html": [
       "<a download=\"garden__mixup_heavy_augment_2.csv\" href=\"data:text/csv;base64,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\" target=\"_blank\">Download CSV file</a>"
      ],
      "text/plain": [
       "<IPython.core.display.HTML object>"
      ]
     },
     "execution_count": 36,
     "metadata": {
      "tags": []
     },
     "output_type": "execute_result"
    }
   ],
   "source": [
    "from IPython.display import HTML\n",
    "import pandas as pd\n",
    "import numpy as np\n",
    "import base64\n",
    "\n",
    "# download it (will only work for files < 2MB or so)\n",
    "def create_download_link(df, title = \"Download CSV file\", filename = \"garden__mixup_heavy_augment_2.csv\"):  \n",
    "    csv = df.to_csv(index=False)\n",
    "    b64 = base64.b64encode(csv.encode())\n",
    "    payload = b64.decode()\n",
    "    html = '<a download=\"{filename}\" href=\"data:text/csv;base64,{payload}\" target=\"_blank\">{title}</a>'\n",
    "    html = html.format(payload=payload,title=title,filename=filename)\n",
    "    return HTML(html)\n",
    "\n",
    "create_download_link(test)"
   ]
  },
  {
   "cell_type": "code",
   "execution_count": 0,
   "metadata": {
    "colab": {},
    "colab_type": "code",
    "id": "RxUK3XHLSWnx"
   },
   "outputs": [],
   "source": []
  }
 ],
 "metadata": {
  "accelerator": "GPU",
  "colab": {
   "collapsed_sections": [],
   "name": "Copy of Kaggle API access example.ipynb",
   "provenance": []
  },
  "kernelspec": {
   "display_name": "Python 3",
   "language": "python",
   "name": "python3"
  },
  "language_info": {
   "codemirror_mode": {
    "name": "ipython",
    "version": 3
   },
   "file_extension": ".py",
   "mimetype": "text/x-python",
   "name": "python",
   "nbconvert_exporter": "python",
   "pygments_lexer": "ipython3",
   "version": "3.7.3"
  }
 },
 "nbformat": 4,
 "nbformat_minor": 1
}
